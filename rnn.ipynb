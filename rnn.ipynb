{
 "cells": [
  {
   "cell_type": "code",
   "execution_count": 5,
   "metadata": {},
   "outputs": [
    {
     "data": {
      "text/plain": [
       "array([[36.22169126, 47.20249818]])"
      ]
     },
     "execution_count": 5,
     "metadata": {},
     "output_type": "execute_result"
    }
   ],
   "source": [
    "import json\n",
    "import pandas as pd;\n",
    "import numpy as np \n",
    "\n",
    "data=pd.read_csv(\"clean_weather.csv\",index_col=0)\n",
    "np.random.seed(0)\n",
    "i_wt=np.random.rand(1,2)\n",
    "h_wt=np.random.rand(2,2)\n",
    "o_wt=np.random.rand(2,1)\n",
    "temps=data[\"tmax\"].tail(3).to_numpy()\n",
    "temps\n",
    "x0=temps[0].reshape(1,1)\n",
    "x1=temps[1].reshape(1,1)\n",
    "x2=temps[2].reshape(1,1)\n",
    "\n",
    "xi_0=x0 @ i_wt\n",
    "\n",
    "xi_0"
   ]
  },
  {
   "cell_type": "code",
   "execution_count": null,
   "metadata": {},
   "outputs": [],
   "source": [
    "xh_0=np.maximum(0,xi_0) #activation funcrtion\n",
    "xo_0=xh_0 @ o_wt\n"
   ]
  }
 ],
 "metadata": {
  "kernelspec": {
   "display_name": "Python 3",
   "language": "python",
   "name": "python3"
  },
  "language_info": {
   "codemirror_mode": {
    "name": "ipython",
    "version": 3
   },
   "file_extension": ".py",
   "mimetype": "text/x-python",
   "name": "python",
   "nbconvert_exporter": "python",
   "pygments_lexer": "ipython3",
   "version": "3.9.6"
  }
 },
 "nbformat": 4,
 "nbformat_minor": 2
}
